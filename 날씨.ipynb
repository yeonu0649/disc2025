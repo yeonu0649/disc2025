{
  "nbformat": 4,
  "nbformat_minor": 0,
  "metadata": {
    "colab": {
      "provenance": [],
      "authorship_tag": "ABX9TyO2ssJeCIyH+yrIvqUTJ3NA",
      "include_colab_link": true
    },
    "kernelspec": {
      "name": "python3",
      "display_name": "Python 3"
    },
    "language_info": {
      "name": "python"
    }
  },
  "cells": [
    {
      "cell_type": "markdown",
      "metadata": {
        "id": "view-in-github",
        "colab_type": "text"
      },
      "source": [
        "<a href=\"https://colab.research.google.com/github/yeonu0649/disc2025/blob/main/%EB%82%A0%EC%94%A8.ipynb\" target=\"_parent\"><img src=\"https://colab.research.google.com/assets/colab-badge.svg\" alt=\"Open In Colab\"/></a>"
      ]
    },
    {
      "cell_type": "code",
      "source": [
        "!pip install Flask-Caching waitress"
      ],
      "metadata": {
        "colab": {
          "base_uri": "https://localhost:8080/"
        },
        "id": "4ajSb4i_ZxgZ",
        "outputId": "24dd3f6b-5a55-4fe6-9ae3-c83996c00799"
      },
      "execution_count": 1,
      "outputs": [
        {
          "output_type": "stream",
          "name": "stdout",
          "text": [
            "Collecting Flask-Caching\n",
            "  Downloading Flask_Caching-2.3.1-py3-none-any.whl.metadata (2.2 kB)\n",
            "Collecting waitress\n",
            "  Downloading waitress-3.0.2-py3-none-any.whl.metadata (5.8 kB)\n",
            "Collecting cachelib>=0.9.0 (from Flask-Caching)\n",
            "  Downloading cachelib-0.13.0-py3-none-any.whl.metadata (2.0 kB)\n",
            "Requirement already satisfied: Flask in /usr/local/lib/python3.11/dist-packages (from Flask-Caching) (3.1.1)\n",
            "Requirement already satisfied: blinker>=1.9.0 in /usr/local/lib/python3.11/dist-packages (from Flask->Flask-Caching) (1.9.0)\n",
            "Requirement already satisfied: click>=8.1.3 in /usr/local/lib/python3.11/dist-packages (from Flask->Flask-Caching) (8.2.1)\n",
            "Requirement already satisfied: itsdangerous>=2.2.0 in /usr/local/lib/python3.11/dist-packages (from Flask->Flask-Caching) (2.2.0)\n",
            "Requirement already satisfied: jinja2>=3.1.2 in /usr/local/lib/python3.11/dist-packages (from Flask->Flask-Caching) (3.1.6)\n",
            "Requirement already satisfied: markupsafe>=2.1.1 in /usr/local/lib/python3.11/dist-packages (from Flask->Flask-Caching) (3.0.2)\n",
            "Requirement already satisfied: werkzeug>=3.1.0 in /usr/local/lib/python3.11/dist-packages (from Flask->Flask-Caching) (3.1.3)\n",
            "Downloading Flask_Caching-2.3.1-py3-none-any.whl (28 kB)\n",
            "Downloading waitress-3.0.2-py3-none-any.whl (56 kB)\n",
            "\u001b[2K   \u001b[90m━━━━━━━━━━━━━━━━━━━━━━━━━━━━━━━━━━━━━━━━\u001b[0m \u001b[32m56.2/56.2 kB\u001b[0m \u001b[31m2.5 MB/s\u001b[0m eta \u001b[36m0:00:00\u001b[0m\n",
            "\u001b[?25hDownloading cachelib-0.13.0-py3-none-any.whl (20 kB)\n",
            "Installing collected packages: waitress, cachelib, Flask-Caching\n",
            "Successfully installed Flask-Caching-2.3.1 cachelib-0.13.0 waitress-3.0.2\n"
          ]
        }
      ]
    },
    {
      "cell_type": "code",
      "execution_count": null,
      "metadata": {
        "colab": {
          "base_uri": "https://localhost:8080/"
        },
        "id": "2fKjS29gZMgq",
        "outputId": "55a794cb-5780-43fe-a3d7-b5a866079229"
      },
      "outputs": [
        {
          "metadata": {
            "tags": null
          },
          "name": "stdout",
          "output_type": "stream",
          "text": [
            " * Serving Flask app '__main__'\n",
            " * Debug mode: on\n"
          ]
        },
        {
          "metadata": {
            "tags": null
          },
          "name": "stderr",
          "output_type": "stream",
          "text": [
            "INFO:werkzeug:\u001b[31m\u001b[1mWARNING: This is a development server. Do not use it in a production deployment. Use a production WSGI server instead.\u001b[0m\n",
            " * Running on http://127.0.0.1:5000\n",
            "INFO:werkzeug:\u001b[33mPress CTRL+C to quit\u001b[0m\n",
            "INFO:werkzeug: * Restarting with stat\n"
          ]
        }
      ],
      "source": [
        "import requests\n",
        "import xml.etree.ElementTree as ET\n",
        "from flask import Flask, jsonify\n",
        "from flask_caching import Cache\n",
        "\n",
        "app = Flask(__name__)\n",
        "\n",
        "# 캐시 설정\n",
        "app.config['CACHE_TYPE'] = 'SimpleCache'\n",
        "app.config['CACHE_DEFAULT_TIMEOUT'] = 600 #캐시10분\n",
        "cache = Cache(app)\n",
        "\n",
        "\n",
        "service_key = \"OEBU5anyrQkL0zi0N1vyjCpBIvoWBYDMB+orxAz7FsyOzDVxU0Bp1YgpSeVnkdfvcbUv2NbRV+O/AEY2mAvD8g==\"\n",
        "\n",
        "# 조회할 공항 코드 목록\n",
        "AIRPORT_IDS = [\"RKSS\", \"RKSI\", \"RKNY\", \"RKTU\", \"RKPC\", \"RKPK\", \"RKJJ\", \"RKJB\"]\n",
        "\n",
        "def get_weather_data(airport_id):\n",
        "    \"\"\"\n",
        "    특정 공항의 날씨 데이터를 API로 가져오는 함수\n",
        "    \"\"\"\n",
        "    url = f\"http://apis.data.go.kr/1360000/MdeMdlService/getMdeMdl?serviceKey={service_key}&airportId={airport_id}\"\n",
        "    try:\n",
        "        response = requests.get(url)\n",
        "        response.raise_for_status()\n",
        "        root = ET.fromstring(response.content)\n",
        "\n",
        "        item = root.find('.//item')\n",
        "        if item:\n",
        "            temp = item.find('temp').text if item.find('temp') is not None else \"N/A\"\n",
        "            wind_dir = item.find('windDir').text if item.find('windDir') is not None else \"N/A\"\n",
        "            wind_spd = item.find('windSpd').text if item.find('windSpd') is not None else \"N/A\"\n",
        "            return {\n",
        "                \"id\": airport_id,\n",
        "                \"temp\": temp,\n",
        "                \"wind_dir\": wind_dir,\n",
        "                \"wind_spd\": wind_spd\n",
        "            }\n",
        "        return None\n",
        "    except Exception as e:\n",
        "        print(f\"Error fetching data for {airport_id}: {e}\")\n",
        "        return None\n",
        "\n",
        "@app.route('/api/airport-weather')\n",
        "@cache.cached(timeout=300)\n",
        "def get_all_airport_weather():\n",
        "    \"\"\"\n",
        "    모든 공항의 날씨 데이터를 JSON 형식으로 반환하는 API 엔드포인트\n",
        "    \"\"\"\n",
        "    all_weather_data = []\n",
        "    for airport_id in AIRPORT_IDS:\n",
        "        data = get_weather_data(airport_id)\n",
        "        if data:\n",
        "            all_weather_data.append(data)\n",
        "\n",
        "    return jsonify(all_weather_data)\n",
        "\n",
        "if __name__ == '__main__':\n",
        "    app.run(debug=True)"
      ]
    },
    {
      "cell_type": "code",
      "source": [
        "from google.colab.output import eval_js\n",
        "print(eval_js(\"google.colab.kernel.proxyPort(5000)\"))\n",
        "\n",
        "if __name__ == '__main__':\n",
        "    app.run(debug=True)"
      ],
      "metadata": {
        "id": "8TmeNlxQZiVt",
        "colab": {
          "base_uri": "https://localhost:8080/"
        },
        "outputId": "26cc0991-abc5-4baa-f3e2-2a2fdaa42eb6"
      },
      "execution_count": null,
      "outputs": [
        {
          "metadata": {
            "tags": null
          },
          "name": "stdout",
          "output_type": "stream",
          "text": [
            "https://5000-m-s-2o9upeiwqekn0-c.us-central1-0.prod.colab.dev\n",
            " * Serving Flask app '__main__'\n",
            " * Debug mode: on\n"
          ]
        },
        {
          "metadata": {
            "tags": null
          },
          "name": "stderr",
          "output_type": "stream",
          "text": [
            "INFO:werkzeug:\u001b[31m\u001b[1mWARNING: This is a development server. Do not use it in a production deployment. Use a production WSGI server instead.\u001b[0m\n",
            " * Running on http://127.0.0.1:5000\n",
            "INFO:werkzeug:\u001b[33mPress CTRL+C to quit\u001b[0m\n",
            "INFO:werkzeug: * Restarting with stat\n"
          ]
        }
      ]
    },
    {
      "cell_type": "code",
      "source": [
        "// 날씨 상태에 따라 이모티콘을 반환하는 함수\n",
        "function getWeatherEmoji(skyDesc) {\n",
        "    if (skyDesc.includes(\"맑음\")) {\n",
        "        return \"☀️\";\n",
        "    } else if (skyDesc.includes(\"구름 많음\") || skyDesc.includes(\"흐림\")) {\n",
        "        return \"☁️\";\n",
        "    } else if (skyDesc.includes(\"비\")) {\n",
        "        return \"☔\";\n",
        "    } else if (skyDesc.includes(\"눈\")) {\n",
        "        return \"❄️\";\n",
        "    } else {\n",
        "        return \"❓\"; // 알 수 없는 날씨\n",
        "    }\n",
        "}\n",
        "\n",
        "async function getAirportWeather() {\n",
        "    const url = \"/api/airport-weather\";\n",
        "    const airportNames = {\n",
        "        \"RKSS\": \"김포\",\n",
        "        \"RKSI\": \"인천\",\n",
        "        \"RKNY\": \"양양\",\n",
        "        \"RKTU\": \"청주\",\n",
        "        \"RKPC\": \"김해\",\n",
        "        \"RKPK\": \"부산\",\n",
        "        \"RKJJ\": \"제주\",\n",
        "        \"RKJB\": \"무안\"\n",
        "    };\n",
        "\n",
        "    try {\n",
        "        const response = await fetch(url);\n",
        "        const airports = await response.json();\n",
        "\n",
        "        const weatherDiv = document.getElementById(\"weatherResult\");\n",
        "        weatherDiv.innerHTML = '<h2>✈️ 국내 주요 공항 기상 정보</h2>';\n",
        "\n",
        "        if (airports.length === 0) {\n",
        "            weatherDiv.innerHTML += '<p>❌ 데이터를 가져오는 데 실패했습니다.</p>';\n",
        "            return;\n",
        "        }\n",
        "\n",
        "        airports.forEach(airport => {\n",
        "            const airportName = airportNames[airport.id] || airport.id;\n",
        "            const emoji = getWeatherEmoji(airport.sky_desc);\n",
        "\n",
        "            const airportInfo = document.createElement('div');\n",
        "            airportInfo.className = 'airport-info';\n",
        "            airportInfo.innerHTML = `\n",
        "                <h3>${emoji} ${airportName} 공항</h3>\n",
        "                <p><strong>날씨:</strong> ${airport.sky_desc}</p>\n",
        "                <p><strong>온도:</strong> ${airport.temp}°C</p>\n",
        "                <p><strong>풍향:</strong> ${airport.wind_dir}</p>\n",
        "                <p><strong>풍속:</strong> ${airport.wind_spd} m/s</p>\n",
        "            `;\n",
        "            weatherDiv.appendChild(airportInfo);\n",
        "        });\n",
        "\n",
        "    } catch (error) {\n",
        "        console.error(\"공항 기상 정보를 가져오는 중 오류 발생:\", error);\n",
        "        document.getElementById(\"weatherResult\").innerHTML = `<p>❌ 공항 기상 정보를 불러오지 못했습니다.</p>`;\n",
        "    }\n",
        "}\n",
        "\n",
        "getAirportWeather();"
      ],
      "metadata": {
        "id": "mO9KL9PIa2Pd"
      },
      "execution_count": null,
      "outputs": []
    },
    {
      "cell_type": "code",
      "source": [
        "<!DOCTYPE html>\n",
        "<html lang=\"ko\">\n",
        "<head>\n",
        "    <meta charset=\"UTF-8\" />\n",
        "    <title>공항 날씨 정보</title>\n",
        "    <link rel=\"stylesheet\" href=\"style.css\" />\n",
        "</head>\n",
        "<body>\n",
        "    <h1>✈️ 국내 주요 공항 기상 정보</h1>\n",
        "    <div id=\"weatherResult\"></div>\n",
        "    <script src=\"script.js\"></script>\n",
        "</body>\n",
        "</html>"
      ],
      "metadata": {
        "id": "frKkY036b2W8"
      },
      "execution_count": null,
      "outputs": []
    },
    {
      "cell_type": "code",
      "source": [
        "body {\n",
        "    font-family: 'Noto Sans KR', sans-serif;\n",
        "    text-align: center;\n",
        "    background-color: #f0f8ff;\n",
        "    padding: 40px;\n",
        "}\n",
        "\n",
        "h1 {\n",
        "    color: #007bff;\n",
        "    margin-bottom: 40px;\n",
        "}\n",
        "\n",
        "#weatherResult {\n",
        "    margin-top: 30px;\n",
        "    display: flex;\n",
        "    flex-wrap: wrap;\n",
        "    justify-content: center;\n",
        "    gap: 20px;\n",
        "}\n",
        "\n",
        ".airport-info {\n",
        "    border: 1px solid #ddd;\n",
        "    border-radius: 8px;\n",
        "    padding: 20px;\n",
        "    width: 200px;\n",
        "    box-shadow: 0 4px 8px rgba(0,0,0,0.1);\n",
        "    background-color: #fff;\n",
        "    text-align: left;\n",
        "}\n",
        "\n",
        ".airport-info h3 {\n",
        "    margin-top: 0;\n",
        "    color: #333;\n",
        "    font-size: 1.2rem;\n",
        "    display: flex;\n",
        "    align-items: center;\n",
        "    gap: 10px;\n",
        "}\n",
        "\n",
        ".airport-info p {\n",
        "    margin: 5px 0;\n",
        "    font-size: 16px;\n",
        "}"
      ],
      "metadata": {
        "id": "IsG1Kmhbb5au"
      },
      "execution_count": null,
      "outputs": []
    },
    {
      "cell_type": "code",
      "source": [],
      "metadata": {
        "id": "2yNX7sicb8iH"
      },
      "execution_count": null,
      "outputs": []
    }
  ]
}